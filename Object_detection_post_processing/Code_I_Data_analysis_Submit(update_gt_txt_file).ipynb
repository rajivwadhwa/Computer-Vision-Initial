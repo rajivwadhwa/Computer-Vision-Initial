{
  "nbformat": 4,
  "nbformat_minor": 0,
  "metadata": {
    "colab": {
      "name": "Code I- Data analysis (update gt txt file).ipynb",
      "provenance": [],
      "collapsed_sections": []
    },
    "kernelspec": {
      "name": "python3",
      "display_name": "Python 3"
    },
    "language_info": {
      "name": "python"
    }
  },
  "cells": [
    {
      "cell_type": "code",
      "metadata": {
        "colab": {
          "base_uri": "https://localhost:8080/"
        },
        "id": "cWz0hT3A5ANl",
        "outputId": "c14b0bda-e01f-4175-a1d4-3063a5b2716e"
      },
      "source": [
        "import numpy as np\n",
        "import pandas as pd\n",
        "import os\n",
        "from google.colab import drive\n",
        "drive.mount(\"/content/gdrive\")\n",
        "os.chdir(\"/content/gdrive/My Drive/YOLO_dataset\")"
      ],
      "execution_count": null,
      "outputs": [
        {
          "output_type": "stream",
          "text": [
            "Drive already mounted at /content/gdrive; to attempt to forcibly remount, call drive.mount(\"/content/gdrive\", force_remount=True).\n"
          ],
          "name": "stdout"
        }
      ]
    },
    {
      "cell_type": "code",
      "metadata": {
        "colab": {
          "base_uri": "https://localhost:8080/"
        },
        "id": "yocYLe_Q5THd",
        "outputId": "dd634066-3e26-4d11-af3f-e832c73b23ce"
      },
      "source": [
        "df = pd.read_csv('gt_final.txt', sep=\";\", header = None)  \n",
        "print (df.head(5))"
      ],
      "execution_count": null,
      "outputs": [
        {
          "output_type": "stream",
          "text": [
            "           0    1    2     3    4   5    6    7    8\n",
            "0  00000.ppm  774  411   815  446  11   pg   pg   pg\n",
            "1  00001.ppm  983  388  1024  432  40  NaN  NaN  NaN\n",
            "2  00001.ppm  386  494   442  552  38  NaN  NaN  NaN\n",
            "3  00001.ppm  973  335  1031  390  13  NaN  NaN  NaN\n",
            "4  00002.ppm  892  476  1006  592  39  NaN  NaN  NaN\n"
          ],
          "name": "stdout"
        }
      ]
    },
    {
      "cell_type": "code",
      "metadata": {
        "colab": {
          "base_uri": "https://localhost:8080/"
        },
        "id": "IyqUQ2wIG0jA",
        "outputId": "cc44ac5b-ea22-4e9a-9b88-f9da3456e2e0"
      },
      "source": [
        "#Calculating width and height of bounding box \n",
        "\n",
        "df['w'] = df[3]-df[1]\n",
        "df['h'] = df[4] - df[2]\n",
        "\n",
        "\n",
        "# Making new class column combining the exsisting 40 classes into 5\n",
        "df.loc[(df[5] == 00) | (df[5] == 1) | (df[5] == 2)| (df[5] == 3)| (df[5] == 4)| (df[5] == 5)| (df[5] == 6)| (df[5] == 7)| (df[5] == 8)| (df[5] == 9)| (df[5] == 10)| (df[5] == 15)| (df[5] == 16)  , 'NewClass'] = 'RedRoundSign'\n",
        "df.loc[(df[5] == 11) | (df[5] == 18) | (df[5] == 19)| (df[5] == 20)| (df[5] == 21)| (df[5] == 22)| (df[5] == 23)| (df[5] == 24)| (df[5] == 25)| (df[5] == 26)| (df[5] == 27)| (df[5] == 28)| (df[5] == 29)| (df[5] == 30)| (df[5] == 31) , 'NewClass'] = 'pg'\n",
        "df.loc[(df[5] == 14), 'NewClass'] = 'ps'\n",
        "df.loc[(df[5] == 17), 'NewClass'] = 'pne'\n",
        "df.loc[(df[5] == 43) | (df[5] == 44) , 'NewClass'] = 'pn'\n",
        "\n",
        "#Removing not required column\n",
        "df_final = df[[0, 1, 2, 'w', 'h', 'NewClass']]\n",
        "print(df_final.head(5))"
      ],
      "execution_count": null,
      "outputs": [
        {
          "output_type": "stream",
          "text": [
            "           0    1    2    w    h NewClass\n",
            "0  00000.ppm  774  411   41   35       pg\n",
            "1  00001.ppm  983  388   41   44      NaN\n",
            "2  00001.ppm  386  494   56   58      NaN\n",
            "3  00001.ppm  973  335   58   55      NaN\n",
            "4  00002.ppm  892  476  114  116      NaN\n"
          ],
          "name": "stdout"
        }
      ]
    },
    {
      "cell_type": "code",
      "metadata": {
        "id": "ILwvCpIfxT7b"
      },
      "source": [
        "#Converted the file into txt file and Exporting the new annotations\n",
        "df_final.to_csv (r'/content/gdrive/My Drive/YOLO_dataset/gt_final_df.txt', index = False, sep = ';',header=False)\n",
        "\n"
      ],
      "execution_count": null,
      "outputs": []
    }
  ]
}